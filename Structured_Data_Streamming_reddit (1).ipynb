{
  "nbformat": 4,
  "nbformat_minor": 0,
  "metadata": {
    "colab": {
      "provenance": []
    },
    "kernelspec": {
      "name": "python3",
      "display_name": "Python 3"
    },
    "language_info": {
      "name": "python"
    }
  },
  "cells": [
    {
      "cell_type": "markdown",
      "source": [
        "![picture](https://drive.google.com/uc?export=view&id=10OxqKSzcY2iuj2Odopc7t3u1_ZHtT2KF)"
      ],
      "metadata": {
        "id": "Cdwx7f4kEeUr"
      }
    },
    {
      "cell_type": "markdown",
      "source": [
        "# **1. Crear Reddit App**"
      ],
      "metadata": {
        "id": "aEq5voaFO-P8"
      }
    },
    {
      "cell_type": "markdown",
      "source": [
        "Ingresa a https://www.reddit.com/prefs/apps y crea tu App para tener acceso a la API.\n",
        "\n",
        "![pictureAPI](https://drive.google.com/uc?export=view&id=1DobGduiERNAvum72JTmWwpBSYmfZ8k6Y)\n",
        "\n",
        "Luego llena los campos obligatorios, establece un nombre y descripción.\n",
        "![picture](https://drive.google.com/uc?export=view&id=1dmzK6chKQPFTu3L7D2OUnx8MljBWVJ3j)\n",
        "\n",
        "Finalmente, guarda los siguientes datos que se usarán para autenticarnos (CLIENT ID & CLIENT SECRET)\n",
        "\n",
        "![picture](https://drive.google.com/uc?export=view&id=1iN1vn31EltYaFK1CH21lXhU71Y1Eek2g)"
      ],
      "metadata": {
        "id": "5FqrpHGBPXMR"
      }
    },
    {
      "cell_type": "markdown",
      "source": [
        "# **2. Instalación de librerías**\n",
        "***Praw***: Python Reddit API Wrapper, es un paquete de Python que permite un acceso simple a la API de Reddit. https://praw.readthedocs.io/en/stable/\n"
      ],
      "metadata": {
        "id": "fvEkDwS_ra0g"
      }
    },
    {
      "cell_type": "code",
      "source": [
        "!pip install pyspark praw"
      ],
      "metadata": {
        "colab": {
          "base_uri": "https://localhost:8080/"
        },
        "id": "tgaWW4fN2-CP",
        "outputId": "a41ae637-f70e-4c0c-9e35-8a29a813b5f0"
      },
      "execution_count": 2,
      "outputs": [
        {
          "output_type": "stream",
          "name": "stdout",
          "text": [
            "Looking in indexes: https://pypi.org/simple, https://us-python.pkg.dev/colab-wheels/public/simple/\n",
            "Collecting pyspark\n",
            "  Downloading pyspark-3.4.0.tar.gz (310.8 MB)\n",
            "\u001b[2K     \u001b[90m━━━━━━━━━━━━━━━━━━━━━━━━━━━━━━━━━━━━━━━\u001b[0m \u001b[32m310.8/310.8 MB\u001b[0m \u001b[31m2.4 MB/s\u001b[0m eta \u001b[36m0:00:00\u001b[0m\n",
            "\u001b[?25h  Preparing metadata (setup.py) ... \u001b[?25l\u001b[?25hdone\n",
            "Collecting praw\n",
            "  Downloading praw-7.7.0-py3-none-any.whl (189 kB)\n",
            "\u001b[2K     \u001b[90m━━━━━━━━━━━━━━━━━━━━━━━━━━━━━━━━━━━━━━\u001b[0m \u001b[32m189.4/189.4 kB\u001b[0m \u001b[31m18.0 MB/s\u001b[0m eta \u001b[36m0:00:00\u001b[0m\n",
            "\u001b[?25hRequirement already satisfied: py4j==0.10.9.7 in /usr/local/lib/python3.10/dist-packages (from pyspark) (0.10.9.7)\n",
            "Collecting prawcore<3,>=2.1 (from praw)\n",
            "  Downloading prawcore-2.3.0-py3-none-any.whl (16 kB)\n",
            "Collecting update-checker>=0.18 (from praw)\n",
            "  Downloading update_checker-0.18.0-py3-none-any.whl (7.0 kB)\n",
            "Requirement already satisfied: websocket-client>=0.54.0 in /usr/local/lib/python3.10/dist-packages (from praw) (1.5.1)\n",
            "Requirement already satisfied: requests<3.0,>=2.6.0 in /usr/local/lib/python3.10/dist-packages (from prawcore<3,>=2.1->praw) (2.27.1)\n",
            "Requirement already satisfied: urllib3<1.27,>=1.21.1 in /usr/local/lib/python3.10/dist-packages (from requests<3.0,>=2.6.0->prawcore<3,>=2.1->praw) (1.26.15)\n",
            "Requirement already satisfied: certifi>=2017.4.17 in /usr/local/lib/python3.10/dist-packages (from requests<3.0,>=2.6.0->prawcore<3,>=2.1->praw) (2022.12.7)\n",
            "Requirement already satisfied: charset-normalizer~=2.0.0 in /usr/local/lib/python3.10/dist-packages (from requests<3.0,>=2.6.0->prawcore<3,>=2.1->praw) (2.0.12)\n",
            "Requirement already satisfied: idna<4,>=2.5 in /usr/local/lib/python3.10/dist-packages (from requests<3.0,>=2.6.0->prawcore<3,>=2.1->praw) (3.4)\n",
            "Building wheels for collected packages: pyspark\n",
            "  Building wheel for pyspark (setup.py) ... \u001b[?25l\u001b[?25hdone\n",
            "  Created wheel for pyspark: filename=pyspark-3.4.0-py2.py3-none-any.whl size=311317130 sha256=c021f8b7d692051f96ba43507c729260a1cb9bd8ce664886f64f325fa692a2e3\n",
            "  Stored in directory: /root/.cache/pip/wheels/7b/1b/4b/3363a1d04368e7ff0d408e57ff57966fcdf00583774e761327\n",
            "Successfully built pyspark\n",
            "Installing collected packages: pyspark, update-checker, prawcore, praw\n",
            "Successfully installed praw-7.7.0 prawcore-2.3.0 pyspark-3.4.0 update-checker-0.18.0\n"
          ]
        }
      ]
    },
    {
      "cell_type": "code",
      "source": [
        "from pyspark.sql import functions as F\n",
        "from pyspark.sql.functions import udf\n",
        "from pyspark.sql import SparkSession\n",
        "from pyspark.sql.types import *\n",
        "import praw"
      ],
      "metadata": {
        "id": "V74J8ItS3DhB"
      },
      "execution_count": 3,
      "outputs": []
    },
    {
      "cell_type": "markdown",
      "source": [
        "# **3. Creación de la sesión de Spark**"
      ],
      "metadata": {
        "id": "P8jZloXlsauv"
      }
    },
    {
      "cell_type": "code",
      "execution_count": 4,
      "metadata": {
        "id": "OMeiQSY01D2N"
      },
      "outputs": [],
      "source": [
        "spark = SparkSession.builder \\\n",
        "    .appName(\"Reddit API Streaming\") \\\n",
        "    .getOrCreate()\n"
      ]
    },
    {
      "cell_type": "markdown",
      "source": [
        "# **4. Conexión a la API de Reddit**\n",
        "* ***Username***: Tu usuario de acceso a Reddit \n",
        "* ***Password***: Guarda la contraseña en un archivo de texto y cárgalo en el notebook.\n",
        "* ***ClientId***: El Id guardo del paso 1.\n",
        "* ***ClientSecret***: El Id guardo del paso 1."
      ],
      "metadata": {
        "id": "068O_-rXsi7E"
      }
    },
    {
      "cell_type": "code",
      "source": [
        "USERNAME = 'valearizag'\n",
        "with open('pass.txt','r') as f:\n",
        "  PASSWORD = f.read()"
      ],
      "metadata": {
        "id": "dLdgnJFN3JNx"
      },
      "execution_count": 6,
      "outputs": []
    },
    {
      "cell_type": "code",
      "source": [
        "reddit = praw.Reddit(\n",
        "         client_id='e6HcBgtzmhOZ1FtF8cG1ig',\n",
        "        client_secret='bVqjibgsXl_ejhaIj_MSBYp8A0cUQQ',\n",
        "        user_agent='PrawTut',\n",
        "        username=USERNAME,\n",
        "        password=PASSWORD,\n",
        "        check_for_async=False\n",
        "    )"
      ],
      "metadata": {
        "id": "xkKfi4acVEIN"
      },
      "execution_count": 7,
      "outputs": []
    },
    {
      "cell_type": "markdown",
      "source": [
        "# **5. Extracción de datos de Reddit API**"
      ],
      "metadata": {
        "id": "Qr2PHle1wV-X"
      }
    },
    {
      "cell_type": "code",
      "source": [
        "subreddit = \"python\"\n",
        "limit = 100"
      ],
      "metadata": {
        "id": "cpQ110viRp6Y"
      },
      "execution_count": 8,
      "outputs": []
    },
    {
      "cell_type": "code",
      "source": [
        "def get_data():\n",
        "    subreddit_data = reddit.subreddit(subreddit).new(limit=limit)\n",
        "    data = [(post.title, post.author.name, post.id) for post in subreddit_data]\n",
        "    return data"
      ],
      "metadata": {
        "id": "JU2Xtp_YR9CE"
      },
      "execution_count": 9,
      "outputs": []
    },
    {
      "cell_type": "code",
      "source": [
        "get_data()"
      ],
      "metadata": {
        "colab": {
          "base_uri": "https://localhost:8080/"
        },
        "id": "NSQrRvN8R0Aa",
        "outputId": "9ec787c2-4288-42eb-98b1-8b5f3701c5bc"
      },
      "execution_count": 10,
      "outputs": [
        {
          "output_type": "execute_result",
          "data": {
            "text/plain": [
              "[('PGP signatures on PyPI: worse than useless', 'ubernostrum', '13ocv2p'),\n",
              " ('2D table top game', 'Beaver_Boi12', '13oc7si'),\n",
              " ('is it true or false', 'lustykindagay', '13ob4yp'),\n",
              " ('Monday Daily Thread: Project ideas!', 'Im__Joseph', '13oakho'),\n",
              " ('A simple CLI for asking questions on your own PDFs using GPT-3.5-Turbo',\n",
              "  '1Blademaster',\n",
              "  '13o7ssn'),\n",
              " ('numpysane: more reasonable core functions for numpy', 'dima55', '13o7nnr'),\n",
              " (\"What's your Python story?\", 'Fine-Divide-5057', '13o6r6r'),\n",
              " ('First Pet-Project', 'dan_flyjeray', '13o5hex'),\n",
              " ('PEP 658', 'help-me-grow', '13o4x3z'),\n",
              " ('WhisperFlow: Unleash the Magic of Infinite Storage on YouTube!',\n",
              "  'JizosKasa',\n",
              "  '13o4ith'),\n",
              " ('Python syntax tutorial', 'Exotic-Foundation119', '13o2qna'),\n",
              " ('Using a Golang package in Python using Gopy',\n",
              "  'PrathameshSonpatki',\n",
              "  '13o2ch6'),\n",
              " ('How long to learn Python until I can automate a data entry job?',\n",
              "  'captainofthememeteam',\n",
              "  '13o22vh'),\n",
              " ('The Ultimate Guide: Best Free Resources to Learn Python',\n",
              "  'stoic_for_life',\n",
              "  '13o1je6'),\n",
              " ('GitHub - fikisipi/elkai: elkai is a Python library for solving travelling salesman problems (TSP) based on LKH 3',\n",
              "  'pmz',\n",
              "  '13o1c4w'),\n",
              " ('Quick Python Scripting Tip: Simplify Data Retrieval from HTTPS API',\n",
              "  'rainnz',\n",
              "  '13o0tb0'),\n",
              " ('Raspberry Pi Debuts a Code Editor for Young People: \"Python is the preferred coding language for beginners (particularly young people), as it’s the most intuitive language utilized by professionals. For this reason, Raspberry Pi’s Code Editor uses Python (specifically the standard library and P5).\"',\n",
              "  'yourbasicgeek',\n",
              "  '13o040f'),\n",
              " ('I want to learn', 'Informal-Football836', '13nzjur'),\n",
              " ('Cuid2 - Secure, collision-resistant ids optimized for horizontal scaling and performance. Next generation UUIDs.',\n",
              "  'wpg4665',\n",
              "  '13ny8ry'),\n",
              " ('Ich wollte ein kleines clicker game machen aber meine hitboxen in der y coordinate wollen sich nicht Konfigurieren lassen hättet ihr da eine lösung ?',\n",
              "  'Mysterious_Count_316',\n",
              "  '13nxzd2'),\n",
              " ('🥥 Django 5.0: 3 Features You Waited For That Will Go Public In December 2023',\n",
              "  'bear007',\n",
              "  '13nvtsy'),\n",
              " ('SqlAlchemy - Tkinter', 'Dangerous_Lock6986', '13nv9qr'),\n",
              " ('Turn your Click CLI into a TUI with a two-line change', 'willm', '13nv4a7'),\n",
              " ('Introducing My Discord Quote Bot: Capturing Memorable Moments!',\n",
              "  'Illustrious_Tax_8229',\n",
              "  '13nrp3f'),\n",
              " ('Discover Awesome Python projects', 'infocruncher', '13nrf87'),\n",
              " ('Analytics Co-pilot for business teams', 'Forsaken-Violinist27', '13njj82'),\n",
              " ('Mastering Python Function Arguments: A Comprehensive Guide',\n",
              "  'lazyhawk20',\n",
              "  '13nhpss'),\n",
              " ('Best Language for Building APIs - TS/JS vs. PY',\n",
              "  'Impossible-Box6600',\n",
              "  '13nfyir'),\n",
              " ('Python true static typing', 'incdev', '13nf0ua'),\n",
              " (\"Sunday Daily Thread: What's everyone working on this week?\",\n",
              "  'Im__Joseph',\n",
              "  '13nd675'),\n",
              " ('Python for beginner', 'SupaSergioDxx', '13nd07d'),\n",
              " ('Python Infrastructure Status - PyPI new user and new project registrations temporarily suspended.',\n",
              "  'dlorenc',\n",
              "  '13n5o2d'),\n",
              " ('ChatGPT: Your Personal Python Coding Mentor – Real Python',\n",
              "  'ajpinedam',\n",
              "  '13n1k00'),\n",
              " ('Consolidate codes in a Python script of developing Flask App dynamic XML sitemap, which includes the route, frontend html section',\n",
              "  'Louis2020yeah',\n",
              "  '13n1gdc'),\n",
              " ('Rendering electron orbitals with Python - The Periodic Table of Orbitals',\n",
              "  'liamilan',\n",
              "  '13n1ctr'),\n",
              " ('Blog post: Writing Python like it’s Rust', 'Kobzol', '13mxvli'),\n",
              " ('New package: swoopyui - swiftUI in python!', 'SBDYZA', '13mwun5'),\n",
              " ('coBib 4.0: a modern UI using Textualize libraries', 'mrossinek', '13mwpz4'),\n",
              " ('Building a Sudoku Solver in Python', 'thewwfguy', '13mvvcc'),\n",
              " ('“Publishing Python Packages on PyPI: A Comprehensive Guide”',\n",
              "  'ruthcy',\n",
              "  '13mqq3j'),\n",
              " ('Weather detection and forecasting app', 'Trinity_software', '13mqdgg'),\n",
              " ('AI Just KILLED the Dev Terminal (Warp)', 'tim_macgyver', '13mp0xr'),\n",
              " ('Writing a chat application in Django 4.2 using SSE',\n",
              "  'alicedu06',\n",
              "  '13mn11q'),\n",
              " ('3D Random Walk Visualization using Mayavi', 'theoreticalphysic', '13mjxof'),\n",
              " ('Saturday Daily Thread: Resource Request and Sharing! Daily Thread',\n",
              "  'Im__Joseph',\n",
              "  '13mc34l'),\n",
              " ('🌍EOmaps v6.5 released!', 'se_pp', '13ma54g'),\n",
              " ('I am starting my Journey as Python Programming Tutorial Blog. Kindly read if possible and give suggestion on how I can improve for future articles.',\n",
              "  'sindhichhokro',\n",
              "  '13m9bah'),\n",
              " ('PromptOptimizer -- Save Money on OpenAI (and more) LLM API costs by Minimizing the Token Complexity',\n",
              "  'TimeTraveller-San',\n",
              "  '13m75f9'),\n",
              " (\"Welp, I've made a Roblox studio clone in Python. I have no idea what to do with it...\",\n",
              "  'SpiceinajarDev',\n",
              "  '13m5gug'),\n",
              " ('AI Newssite on Python with GPT3.5', 'Human-Possession135', '13m4d0n'),\n",
              " ('Introducing Grasshopper - An Open Source Python Library for Load Testing',\n",
              "  'CaptainWubbles',\n",
              "  '13m43rs'),\n",
              " ('Recent changes in The Pure Python Web Framework Survey',\n",
              "  'thedeepself',\n",
              "  '13lpv5r'),\n",
              " ('🌈 Rainbow Tweet Chrome Plugin (Python Backend)', 'rockstarflo', '13lu3g3'),\n",
              " ('Lists within infinite lists', 'o9six', '13ltkk0'),\n",
              " ('I’m open-sourcing the Python interface for JOY OF PROGRAMMING - a programming game where you automate all kinds of machines, robots, drones and more.',\n",
              "  'this_is_max',\n",
              "  '13ltk4q'),\n",
              " ('Python code comprehension survey', 'AVIADbaron', '13lsx1t'),\n",
              " ('Is there a way of saying \"If any condition resulted in True do A else B\"',\n",
              "  'hardlySmoker',\n",
              "  '13lski7'),\n",
              " ('Demystifying the Technical Structure of Text-to-Speech Models',\n",
              "  'ABDULKADER90H',\n",
              "  '13lr1vs'),\n",
              " ('Rome and software weren’t built in a day', '100GB-CSV', '13lqw9t'),\n",
              " ('Are there any good syntax or style checkers recommended?',\n",
              "  'GroolzerMan',\n",
              "  '13low98'),\n",
              " ('Propan - is a new python framework for building messaging services',\n",
              "  'Lancetnik12',\n",
              "  '13lncci'),\n",
              " ('CSV serialisation and deserialisation', 'Drphysics5', '13lm6g9'),\n",
              " ('What if: python without commas', 'jaundicedeye', '13lm5cy'),\n",
              " ('Using Taichi to accelerate native Python code of DE algorithm',\n",
              "  'xxysmd',\n",
              "  '13lkbar'),\n",
              " ('New to Python and OOP. Appreciate the simplicity of this language. What do I need to do to understand it at a deep level? Reading standard library documentation can be confusing.',\n",
              "  'tidder78',\n",
              "  '13ligtf'),\n",
              " ('NoDoze - smart sleep for Linux computers', 'aclinical', '13lftqi'),\n",
              " ('Writing my own ChatGPT Code Interpreter', 'ricklamers', '13ldlmd'),\n",
              " ('Share a Python script on Instagram post scraper using hashtags FYI',\n",
              "  'Louis2020yeah',\n",
              "  '13l88gq'),\n",
              " ('Easy to use python cryptography library', 'legend3008', '13l5cwf'),\n",
              " ('ChatGPT Takes the Python World by Storm as the Ultimate Creative Coding Companion!',\n",
              "  'glum-platimium',\n",
              "  '13l4lyc'),\n",
              " ('Unleashing the power of python', 'Calm_Motor4162', '13l3f89'),\n",
              " ('create-ac-cli-tool!', 'sengolda_', '13l2e8x'),\n",
              " ('Locally running OCR app with OS native theming', 'WindAndDove', '13l1l5m'),\n",
              " ('Anyone interested in how to automate Tableau Server flow execution in Python without add-ons?',\n",
              "  'Takashi-Katsumoto',\n",
              "  '13l1k8s'),\n",
              " ('Exploring & Cleaning Data with Dexplorer', 'Andy_kiny', '13l0vf0'),\n",
              " ('Web Scraping eBay Using Python to Extract Product Details',\n",
              "  'yakult2450',\n",
              "  '13kzche'),\n",
              " ('Odigos v0.1.5 - Managing OpenTelemetry using Kubernetes labels',\n",
              "  'Barakikia',\n",
              "  '13kytfc'),\n",
              " ('Streamlit meets analytics (Headless BI)',\n",
              "  'AmphibianInfamous574',\n",
              "  '13kx175'),\n",
              " ('Tools for Python', 'Devobservability', '13kvia6'),\n",
              " ('Building a Robust Data Lake with Python and DuckDB',\n",
              "  'Nyoka_developer',\n",
              "  '13kvgex'),\n",
              " ('lablup/rraft-py: Unofficial Python Binding of the tikv/raft-rs',\n",
              "  'jopemachine',\n",
              "  '13kvae4'),\n",
              " ('GitHub - Crunch-io/lazycsv - lazycsv is a C implementation of a csv parser for python.',\n",
              "  'pmz',\n",
              "  '13kt6vd'),\n",
              " ('Challenge Solution / learn Python 62', 'Animals1987', '13ksrqs'),\n",
              " ('I published a Python Plotly Data Visualization Course on Youtube',\n",
              "  'onurbaltaci',\n",
              "  '13kr079'),\n",
              " ('Check out the Python package `pdfgpt` #openai #pdf',\n",
              "  'mariosmsk',\n",
              "  '13kq2na'),\n",
              " ('README-AI: Auto-generate README.md files!', 'em_el_k0b01101011', '13kpoti'),\n",
              " ('Is there a library which can take a protobuf schema and some protobuf data, and give me a dictionary? Not looking for the whole compiling process',\n",
              "  'PurepointDog',\n",
              "  '13kmhgi'),\n",
              " ('Does anyone know if there is an SDK for Sylvania Bluetooth Lightbulbs?',\n",
              "  'Mc_Snurtle',\n",
              "  '13km6c3'),\n",
              " ('You pip install pyserial, but then you import serial, so what exactly does pip install serial download?',\n",
              "  'Kalekuda',\n",
              "  '13km1q6'),\n",
              " ('Thursday Daily Thread: Python Careers, Courses, and Furthering Education!',\n",
              "  'Im__Joseph',\n",
              "  '13kiiw7'),\n",
              " ('Postgres Lock Explainer', 'Dramatic-Mongoose-95', '13kgod5'),\n",
              " ('Project to train an AI to automate debugging and refactoring Python',\n",
              "  'bobcodes247365',\n",
              "  '13kdiub'),\n",
              " ('Creating a Flipping Bits Game in Python With Tkinter',\n",
              "  'rachidafr',\n",
              "  '13k014c'),\n",
              " ('Strategy for finding new entries between two pandas data frames? [Trying to find new or changed entries to a calendar]',\n",
              "  'Richey4TheStars',\n",
              "  '13kbkwn'),\n",
              " ('Announcing aws-cdk-secure-api v0.3.0: Using AWS CDK to Easily Deploy \"Secured\" APIs',\n",
              "  'rvkvetch',\n",
              "  '13kbd5s'),\n",
              " ('I made a plugin for Anki for adding pitch accent graphs from OJAD',\n",
              "  'Hoza2002',\n",
              "  '13kbbe3'),\n",
              " ('Suggestions for an automation script that uploads local folders to Google Drive',\n",
              "  'toPolaris',\n",
              "  '13kai0g'),\n",
              " ('Python Tutorials : PIP Commands in Python', 'codewithjoy', '13k9na0'),\n",
              " ('Decorators in Python in Hindi', 'codewithjoy', '13k9he1'),\n",
              " ('Python for Network Engineers', 'Borealis_761', '13k7djn')]"
            ]
          },
          "metadata": {},
          "execution_count": 10
        }
      ]
    },
    {
      "cell_type": "markdown",
      "source": [
        "# **6. Creación de Streaming df (ReadStream)**"
      ],
      "metadata": {
        "id": "-zbrnxDny33N"
      }
    },
    {
      "cell_type": "markdown",
      "source": [
        "Se establece el esquema con el que se quiere el dataframe"
      ],
      "metadata": {
        "id": "xs_-i2tXz_zk"
      }
    },
    {
      "cell_type": "code",
      "source": [
        "schema = \"title STRING, author STRING, post_id STRING\""
      ],
      "metadata": {
        "id": "K8HgZrDTR6Ks"
      },
      "execution_count": 11,
      "outputs": []
    },
    {
      "cell_type": "code",
      "source": [
        "streaming_df = spark.readStream \\\n",
        "    .format(\"rate\") \\\n",
        "    .option(\"rowsPerSecond\", 1) \\\n",
        "    .load()"
      ],
      "metadata": {
        "id": "aanou2k5V-oW"
      },
      "execution_count": 12,
      "outputs": []
    },
    {
      "cell_type": "code",
      "source": [
        "streaming_df.isStreaming"
      ],
      "metadata": {
        "colab": {
          "base_uri": "https://localhost:8080/"
        },
        "id": "2-5CwkiolIs7",
        "outputId": "ddb1c3a8-1bfa-48c1-fd5f-c895ae3ada00"
      },
      "execution_count": 13,
      "outputs": [
        {
          "output_type": "execute_result",
          "data": {
            "text/plain": [
              "True"
            ]
          },
          "metadata": {},
          "execution_count": 13
        }
      ]
    },
    {
      "cell_type": "code",
      "source": [
        "@udf(\"array<struct<title: string, author: string, post_id: string>>\")\n",
        "def get_reddit_data():\n",
        "    reddit_data = get_data()\n",
        "    data = [(title, author, post_id) for title, author, post_id in reddit_data]\n",
        "    return data "
      ],
      "metadata": {
        "id": "nOLRd0eYndpC"
      },
      "execution_count": 14,
      "outputs": []
    },
    {
      "cell_type": "markdown",
      "source": [
        "Aplicamos algunas transformaciones para organizar el dataframe"
      ],
      "metadata": {
        "id": "j8n2WTg9z3Tm"
      }
    },
    {
      "cell_type": "code",
      "source": [
        "transformed_df = streaming_df.select(get_reddit_data().alias(\"reddit_data\")) \\\n",
        "                             .selectExpr(\"explode(reddit_data) as reddit_data\")\n",
        "\n",
        "final_df = transformed_df.select(\"reddit_data.title\", \"reddit_data.author\", \"reddit_data.post_id\")"
      ],
      "metadata": {
        "id": "n-CMjdpXob1j"
      },
      "execution_count": 15,
      "outputs": []
    },
    {
      "cell_type": "code",
      "source": [
        "final_df.isStreaming"
      ],
      "metadata": {
        "colab": {
          "base_uri": "https://localhost:8080/"
        },
        "id": "HlmenNY5niNH",
        "outputId": "8789a671-4b1b-45b2-c18d-5f87df4c8ea8"
      },
      "execution_count": 16,
      "outputs": [
        {
          "output_type": "execute_result",
          "data": {
            "text/plain": [
              "True"
            ]
          },
          "metadata": {},
          "execution_count": 16
        }
      ]
    },
    {
      "cell_type": "markdown",
      "source": [
        "Verificamos el esquema"
      ],
      "metadata": {
        "id": "gNHjqS8Az8nu"
      }
    },
    {
      "cell_type": "code",
      "source": [
        "final_df.printSchema()"
      ],
      "metadata": {
        "colab": {
          "base_uri": "https://localhost:8080/"
        },
        "id": "bWIrWPL4U6Sq",
        "outputId": "799c0ddb-95d4-4615-b90c-8430cd03e372"
      },
      "execution_count": 17,
      "outputs": [
        {
          "output_type": "stream",
          "name": "stdout",
          "text": [
            "root\n",
            " |-- title: string (nullable = true)\n",
            " |-- author: string (nullable = true)\n",
            " |-- post_id: string (nullable = true)\n",
            "\n"
          ]
        }
      ]
    },
    {
      "cell_type": "markdown",
      "source": [
        "# **7. Write Stream al Content de Google**"
      ],
      "metadata": {
        "id": "VNg9ospczscZ"
      }
    },
    {
      "cell_type": "code",
      "source": [
        "def process_batch(df, batch_id):\n",
        "  df.write.mode(\"append\").csv(\"Resultados_finales/\")"
      ],
      "metadata": {
        "id": "ogBAP9x7bJVh"
      },
      "execution_count": 18,
      "outputs": []
    },
    {
      "cell_type": "code",
      "source": [
        "final_df.writeStream \\\n",
        "    .foreachBatch(process_batch) \\\n",
        "    .start()\\\n",
        "    .awaitTermination()"
      ],
      "metadata": {
        "id": "XZASvDvzcD5L"
      },
      "execution_count": null,
      "outputs": []
    }
  ]
}